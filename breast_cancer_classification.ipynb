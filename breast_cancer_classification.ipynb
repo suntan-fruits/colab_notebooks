{
  "nbformat": 4,
  "nbformat_minor": 0,
  "metadata": {
    "colab": {
      "name": "breast_cancer_classification",
      "provenance": [],
      "authorship_tag": "ABX9TyNQo9WhYsxkq5C408K0OG7n",
      "include_colab_link": true
    },
    "kernelspec": {
      "name": "python2",
      "display_name": "Python 2"
    }
  },
  "cells": [
    {
      "cell_type": "markdown",
      "metadata": {
        "id": "view-in-github",
        "colab_type": "text"
      },
      "source": [
        "<a href=\"https://colab.research.google.com/github/suntan-fruits/colab_notebooks/blob/master/breast_cancer_classification.ipynb\" target=\"_parent\"><img src=\"https://colab.research.google.com/assets/colab-badge.svg\" alt=\"Open In Colab\"/></a>"
      ]
    },
    {
      "cell_type": "markdown",
      "metadata": {
        "id": "njNIX-50E0h8",
        "colab_type": "text"
      },
      "source": [
        "## Breast Cancer Classification \n",
        "\n",
        "* 작성자 : Jeaeun Jung\n",
        "* 날짜 : 2020.02.03  "
      ]
    },
    {
      "cell_type": "code",
      "metadata": {
        "id": "MCpNTtfyF7W9",
        "colab_type": "code",
        "colab": {
          "base_uri": "https://localhost:8080/",
          "height": 36
        },
        "outputId": "f800e105-a479-4458-a80d-2a05cefec1b9"
      },
      "source": [
        "print('hello world')"
      ],
      "execution_count": 1,
      "outputs": [
        {
          "output_type": "stream",
          "text": [
            "hello world\n"
          ],
          "name": "stdout"
        }
      ]
    }
  ]
}