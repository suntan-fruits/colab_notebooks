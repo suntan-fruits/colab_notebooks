{
  "nbformat": 4,
  "nbformat_minor": 0,
  "metadata": {
    "colab": {
      "name": "Pima Indians Diabetes",
      "provenance": [],
      "collapsed_sections": [],
      "authorship_tag": "ABX9TyOYYHzN0aYtYYjT7UHJm/jU",
      "include_colab_link": true
    },
    "kernelspec": {
      "name": "python3",
      "display_name": "Python 3"
    }
  },
  "cells": [
    {
      "cell_type": "markdown",
      "metadata": {
        "id": "view-in-github",
        "colab_type": "text"
      },
      "source": [
        "<a href=\"https://colab.research.google.com/github/suntan-fruits/colab_notebooks/blob/master/Pima_Indians_Diabetes.ipynb\" target=\"_parent\"><img src=\"https://colab.research.google.com/assets/colab-badge.svg\" alt=\"Open In Colab\"/></a>"
      ]
    },
    {
      "cell_type": "markdown",
      "metadata": {
        "id": "MIL0DoEBhNhd",
        "colab_type": "text"
      },
      "source": [
        "### Pima Indians Diabetes\n"
      ]
    },
    {
      "cell_type": "markdown",
      "metadata": {
        "id": "2zhCsj7IW2Yb",
        "colab_type": "text"
      },
      "source": [
        "### What is k-NN(k-Nearest Neighbors) Prediction?\n",
        "**KNN Classification** is one of the methods to determine unknown results based on the given dataset. This algorithm orginated from the idea that similar data tend to cluster together. By checking the distance to each data point of the training dataset, it chooses the k-most nearest data, which is referred to as \"k-Nearest Neighbors\". Then it returns the most common outcome among the k-Nearest Neighbors as the final prediction."
      ]
    },
    {
      "cell_type": "markdown",
      "metadata": {
        "id": "LPaT-Z9vaj89",
        "colab_type": "text"
      },
      "source": [
        "* Import modules\n",
        "\n",
        "To begin with, we have to import some modules.\n"
      ]
    },
    {
      "cell_type": "code",
      "metadata": {
        "id": "s1vldOrZ2TBy",
        "colab_type": "code",
        "colab": {}
      },
      "source": [
        "import pandas as pd\n",
        "data = pd.read_csv(\"diabetes.csv\")\n",
        "\n",
        "import matplotlib.pyplot as plt\n",
        "import seaborn as sns"
      ],
      "execution_count": 0,
      "outputs": []
    },
    {
      "cell_type": "markdown",
      "metadata": {
        "id": "lyXZ-UMSPP5i",
        "colab_type": "text"
      },
      "source": [
        "* Check the data\n",
        "\n",
        "Firstly, check the data and overview it. There are three options you can choose.\n",
        "\n",
        "1.   `.sample()` \n",
        "2.   `.head()` \n",
        "3.   `.tail()`"
      ]
    },
    {
      "cell_type": "code",
      "metadata": {
        "id": "Un9awwRM34uy",
        "colab_type": "code",
        "outputId": "34ea1b5e-ca29-4b2c-8da8-fd1bfd415c46",
        "colab": {
          "base_uri": "https://localhost:8080/",
          "height": 161
        }
      },
      "source": [
        "data.sample(3)"
      ],
      "execution_count": 0,
      "outputs": [
        {
          "output_type": "execute_result",
          "data": {
            "text/html": [
              "<div>\n",
              "<style scoped>\n",
              "    .dataframe tbody tr th:only-of-type {\n",
              "        vertical-align: middle;\n",
              "    }\n",
              "\n",
              "    .dataframe tbody tr th {\n",
              "        vertical-align: top;\n",
              "    }\n",
              "\n",
              "    .dataframe thead th {\n",
              "        text-align: right;\n",
              "    }\n",
              "</style>\n",
              "<table border=\"1\" class=\"dataframe\">\n",
              "  <thead>\n",
              "    <tr style=\"text-align: right;\">\n",
              "      <th></th>\n",
              "      <th>Pregnancies</th>\n",
              "      <th>Glucose</th>\n",
              "      <th>BloodPressure</th>\n",
              "      <th>SkinThickness</th>\n",
              "      <th>Insulin</th>\n",
              "      <th>BMI</th>\n",
              "      <th>DiabetesPedigreeFunction</th>\n",
              "      <th>Age</th>\n",
              "      <th>Outcome</th>\n",
              "    </tr>\n",
              "  </thead>\n",
              "  <tbody>\n",
              "    <tr>\n",
              "      <th>166</th>\n",
              "      <td>3</td>\n",
              "      <td>148</td>\n",
              "      <td>66</td>\n",
              "      <td>25</td>\n",
              "      <td>0</td>\n",
              "      <td>32.5</td>\n",
              "      <td>0.256</td>\n",
              "      <td>22</td>\n",
              "      <td>0</td>\n",
              "    </tr>\n",
              "    <tr>\n",
              "      <th>374</th>\n",
              "      <td>2</td>\n",
              "      <td>122</td>\n",
              "      <td>52</td>\n",
              "      <td>43</td>\n",
              "      <td>158</td>\n",
              "      <td>36.2</td>\n",
              "      <td>0.816</td>\n",
              "      <td>28</td>\n",
              "      <td>0</td>\n",
              "    </tr>\n",
              "    <tr>\n",
              "      <th>735</th>\n",
              "      <td>4</td>\n",
              "      <td>95</td>\n",
              "      <td>60</td>\n",
              "      <td>32</td>\n",
              "      <td>0</td>\n",
              "      <td>35.4</td>\n",
              "      <td>0.284</td>\n",
              "      <td>28</td>\n",
              "      <td>0</td>\n",
              "    </tr>\n",
              "  </tbody>\n",
              "</table>\n",
              "</div>"
            ],
            "text/plain": [
              "     Pregnancies  Glucose  ...  Age  Outcome\n",
              "166            3      148  ...   22        0\n",
              "374            2      122  ...   28        0\n",
              "735            4       95  ...   28        0\n",
              "\n",
              "[3 rows x 9 columns]"
            ]
          },
          "metadata": {
            "tags": []
          },
          "execution_count": 2
        }
      ]
    },
    {
      "cell_type": "markdown",
      "metadata": {
        "id": "PVXoGV0e3lVN",
        "colab_type": "text"
      },
      "source": [
        "`data.columns` shows each column's name  which are chosen for the possible determinant of the outcome."
      ]
    },
    {
      "cell_type": "code",
      "metadata": {
        "id": "lPomAATl2dxh",
        "colab_type": "code",
        "outputId": "f726e2d9-19f6-4c7b-bafd-dd158875a41c",
        "colab": {
          "base_uri": "https://localhost:8080/",
          "height": 73
        }
      },
      "source": [
        "data.columns"
      ],
      "execution_count": 0,
      "outputs": [
        {
          "output_type": "execute_result",
          "data": {
            "text/plain": [
              "Index(['Pregnancies', 'Glucose', 'BloodPressure', 'SkinThickness', 'Insulin',\n",
              "       'BMI', 'DiabetesPedigreeFunction', 'Age', 'Outcome'],\n",
              "      dtype='object')"
            ]
          },
          "metadata": {
            "tags": []
          },
          "execution_count": 3
        }
      ]
    },
    {
      "cell_type": "markdown",
      "metadata": {
        "id": "mKl8ny8zPWZQ",
        "colab_type": "text"
      },
      "source": [
        "* Check whether the data is biased\n",
        "\n",
        "It's not proper to use biased data since our model can yield inaccurate predictions. For this reason, we always should check it. Generally if one side of outcome is higher than three times of the other side, it's perceived as biased data.\n",
        "We can count numbers of each outcome (0 which means benign, 1 which means malignant) by `.value_counts()` or compare them through the graph by `sns.countplot()`. Additionally, by `plt.show()`, we can hide the phrase which seems like to be unmeaningful to us."
      ]
    },
    {
      "cell_type": "code",
      "metadata": {
        "id": "Q9Io6SYA4QFv",
        "colab_type": "code",
        "outputId": "9651abef-3403-418f-f9c2-58a99889ca57",
        "colab": {
          "base_uri": "https://localhost:8080/",
          "height": 73
        }
      },
      "source": [
        "outcome = data['Outcome']\n",
        "outcome.value_counts()"
      ],
      "execution_count": 0,
      "outputs": [
        {
          "output_type": "execute_result",
          "data": {
            "text/plain": [
              "0    500\n",
              "1    268\n",
              "Name: Outcome, dtype: int64"
            ]
          },
          "metadata": {
            "tags": []
          },
          "execution_count": 4
        }
      ]
    },
    {
      "cell_type": "code",
      "metadata": {
        "id": "jWU1xm354WXs",
        "colab_type": "code",
        "outputId": "6184a4fc-4062-468e-ee5d-41871215bcdc",
        "colab": {
          "base_uri": "https://localhost:8080/",
          "height": 304
        }
      },
      "source": [
        "sns.countplot(outcome,palette=['darkseagreen','orange'])\n",
        "\n",
        "plt.title('Distribution of outcome', pad=15)\n",
        "plt.xticks([0, 1], ['Normal', 'Diabetes'])\n",
        "plt.show()"
      ],
      "execution_count": 0,
      "outputs": [
        {
          "output_type": "display_data",
          "data": {
            "image/png": "[encoded data removed]",
            "text/plain": [
              "<Figure size 432x288 with 1 Axes>"
            ]
          },
          "metadata": {
            "tags": []
          }
        }
      ]
    },
    {
      "cell_type": "markdown",
      "metadata": {
        "id": "zAeph2KQ83VD",
        "colab_type": "text"
      },
      "source": [
        "As the outcome '0' is almost same as twofolds of the outcome '1'. We can say that it is unbaised data, which is proper to use."
      ]
    },
    {
      "cell_type": "markdown",
      "metadata": {
        "id": "MD_LcJK26umo",
        "colab_type": "text"
      },
      "source": [
        "\n",
        "\n",
        "* check for any missing value\n"
      ]
    },
    {
      "cell_type": "code",
      "metadata": {
        "id": "odrWgHYp_Y2z",
        "colab_type": "code",
        "outputId": "defcc629-27d8-4991-ce8c-5b54911e918c",
        "colab": {
          "base_uri": "https://localhost:8080/",
          "height": 314
        }
      },
      "source": [
        "data.describe()"
      ],
      "execution_count": 0,
      "outputs": [
        {
          "output_type": "execute_result",
          "data": {
            "text/html": [
              "<div>\n",
              "<style scoped>\n",
              "    .dataframe tbody tr th:only-of-type {\n",
              "        vertical-align: middle;\n",
              "    }\n",
              "\n",
              "    .dataframe tbody tr th {\n",
              "        vertical-align: top;\n",
              "    }\n",
              "\n",
              "    .dataframe thead th {\n",
              "        text-align: right;\n",
              "    }\n",
              "</style>\n",
              "<table border=\"1\" class=\"dataframe\">\n",
              "  <thead>\n",
              "    <tr style=\"text-align: right;\">\n",
              "      <th></th>\n",
              "      <th>Pregnancies</th>\n",
              "      <th>Glucose</th>\n",
              "      <th>BloodPressure</th>\n",
              "      <th>SkinThickness</th>\n",
              "      <th>Insulin</th>\n",
              "      <th>BMI</th>\n",
              "      <th>DiabetesPedigreeFunction</th>\n",
              "      <th>Age</th>\n",
              "      <th>Outcome</th>\n",
              "    </tr>\n",
              "  </thead>\n",
              "  <tbody>\n",
              "    <tr>\n",
              "      <th>count</th>\n",
              "      <td>768.000000</td>\n",
              "      <td>768.000000</td>\n",
              "      <td>768.000000</td>\n",
              "      <td>768.000000</td>\n",
              "      <td>768.000000</td>\n",
              "      <td>768.000000</td>\n",
              "      <td>768.000000</td>\n",
              "      <td>768.000000</td>\n",
              "      <td>768.000000</td>\n",
              "    </tr>\n",
              "    <tr>\n",
              "      <th>mean</th>\n",
              "      <td>3.845052</td>\n",
              "      <td>120.894531</td>\n",
              "      <td>69.105469</td>\n",
              "      <td>20.536458</td>\n",
              "      <td>79.799479</td>\n",
              "      <td>31.992578</td>\n",
              "      <td>0.471876</td>\n",
              "      <td>33.240885</td>\n",
              "      <td>0.348958</td>\n",
              "    </tr>\n",
              "    <tr>\n",
              "      <th>std</th>\n",
              "      <td>3.369578</td>\n",
              "      <td>31.972618</td>\n",
              "      <td>19.355807</td>\n",
              "      <td>15.952218</td>\n",
              "      <td>115.244002</td>\n",
              "      <td>7.884160</td>\n",
              "      <td>0.331329</td>\n",
              "      <td>11.760232</td>\n",
              "      <td>0.476951</td>\n",
              "    </tr>\n",
              "    <tr>\n",
              "      <th>min</th>\n",
              "      <td>0.000000</td>\n",
              "      <td>0.000000</td>\n",
              "      <td>0.000000</td>\n",
              "      <td>0.000000</td>\n",
              "      <td>0.000000</td>\n",
              "      <td>0.000000</td>\n",
              "      <td>0.078000</td>\n",
              "      <td>21.000000</td>\n",
              "      <td>0.000000</td>\n",
              "    </tr>\n",
              "    <tr>\n",
              "      <th>25%</th>\n",
              "      <td>1.000000</td>\n",
              "      <td>99.000000</td>\n",
              "      <td>62.000000</td>\n",
              "      <td>0.000000</td>\n",
              "      <td>0.000000</td>\n",
              "      <td>27.300000</td>\n",
              "      <td>0.243750</td>\n",
              "      <td>24.000000</td>\n",
              "      <td>0.000000</td>\n",
              "    </tr>\n",
              "    <tr>\n",
              "      <th>50%</th>\n",
              "      <td>3.000000</td>\n",
              "      <td>117.000000</td>\n",
              "      <td>72.000000</td>\n",
              "      <td>23.000000</td>\n",
              "      <td>30.500000</td>\n",
              "      <td>32.000000</td>\n",
              "      <td>0.372500</td>\n",
              "      <td>29.000000</td>\n",
              "      <td>0.000000</td>\n",
              "    </tr>\n",
              "    <tr>\n",
              "      <th>75%</th>\n",
              "      <td>6.000000</td>\n",
              "      <td>140.250000</td>\n",
              "      <td>80.000000</td>\n",
              "      <td>32.000000</td>\n",
              "      <td>127.250000</td>\n",
              "      <td>36.600000</td>\n",
              "      <td>0.626250</td>\n",
              "      <td>41.000000</td>\n",
              "      <td>1.000000</td>\n",
              "    </tr>\n",
              "    <tr>\n",
              "      <th>max</th>\n",
              "      <td>17.000000</td>\n",
              "      <td>199.000000</td>\n",
              "      <td>122.000000</td>\n",
              "      <td>99.000000</td>\n",
              "      <td>846.000000</td>\n",
              "      <td>67.100000</td>\n",
              "      <td>2.420000</td>\n",
              "      <td>81.000000</td>\n",
              "      <td>1.000000</td>\n",
              "    </tr>\n",
              "  </tbody>\n",
              "</table>\n",
              "</div>"
            ],
            "text/plain": [
              "       Pregnancies     Glucose  ...         Age     Outcome\n",
              "count   768.000000  768.000000  ...  768.000000  768.000000\n",
              "mean      3.845052  120.894531  ...   33.240885    0.348958\n",
              "std       3.369578   31.972618  ...   11.760232    0.476951\n",
              "min       0.000000    0.000000  ...   21.000000    0.000000\n",
              "25%       1.000000   99.000000  ...   24.000000    0.000000\n",
              "50%       3.000000  117.000000  ...   29.000000    0.000000\n",
              "75%       6.000000  140.250000  ...   41.000000    1.000000\n",
              "max      17.000000  199.000000  ...   81.000000    1.000000\n",
              "\n",
              "[8 rows x 9 columns]"
            ]
          },
          "metadata": {
            "tags": []
          },
          "execution_count": 6
        }
      ]
    },
    {
      "cell_type": "markdown",
      "metadata": {
        "id": "oLORtJXT7_k7",
        "colab_type": "text"
      },
      "source": [
        "As you can see that some minimum values are zero although it would not be possible, there seems to be some missing values. To deal with it, we can put the mean value instead of the missing values."
      ]
    },
    {
      "cell_type": "code",
      "metadata": {
        "id": "5GgUIBg2qIQD",
        "colab_type": "code",
        "colab": {}
      },
      "source": [
        "no_data = ['Glucose', 'BloodPressure', 'SkinThickness', 'Insulin', 'BMI']"
      ],
      "execution_count": 0,
      "outputs": []
    },
    {
      "cell_type": "code",
      "metadata": {
        "id": "nMt_h4TxyL4a",
        "colab_type": "code",
        "colab": {}
      },
      "source": [
        "def impute_zero(col):\n",
        "  idx = data[data[col]==0].index\n",
        "  data_without_zero = data.drop(idx)\n",
        "\n",
        "  m = data_without_zero[col].mean()\n",
        "  data[col] = data[col].replace(0,m)"
      ],
      "execution_count": 0,
      "outputs": []
    },
    {
      "cell_type": "code",
      "metadata": {
        "id": "g3OGZNu5z17d",
        "colab_type": "code",
        "colab": {}
      },
      "source": [
        "for col in no_data:\n",
        "  impute_zero(col)"
      ],
      "execution_count": 0,
      "outputs": []
    },
    {
      "cell_type": "code",
      "metadata": {
        "id": "dDb4Us2Fz7k0",
        "colab_type": "code",
        "outputId": "af4116e6-eb11-43e6-b944-972f9010b7bb",
        "colab": {
          "base_uri": "https://localhost:8080/",
          "height": 314
        }
      },
      "source": [
        "data.describe()"
      ],
      "execution_count": 0,
      "outputs": [
        {
          "output_type": "execute_result",
          "data": {
            "text/html": [
              "<div>\n",
              "<style scoped>\n",
              "    .dataframe tbody tr th:only-of-type {\n",
              "        vertical-align: middle;\n",
              "    }\n",
              "\n",
              "    .dataframe tbody tr th {\n",
              "        vertical-align: top;\n",
              "    }\n",
              "\n",
              "    .dataframe thead th {\n",
              "        text-align: right;\n",
              "    }\n",
              "</style>\n",
              "<table border=\"1\" class=\"dataframe\">\n",
              "  <thead>\n",
              "    <tr style=\"text-align: right;\">\n",
              "      <th></th>\n",
              "      <th>Pregnancies</th>\n",
              "      <th>Glucose</th>\n",
              "      <th>BloodPressure</th>\n",
              "      <th>SkinThickness</th>\n",
              "      <th>Insulin</th>\n",
              "      <th>BMI</th>\n",
              "      <th>DiabetesPedigreeFunction</th>\n",
              "      <th>Age</th>\n",
              "      <th>Outcome</th>\n",
              "    </tr>\n",
              "  </thead>\n",
              "  <tbody>\n",
              "    <tr>\n",
              "      <th>count</th>\n",
              "      <td>768.000000</td>\n",
              "      <td>768.000000</td>\n",
              "      <td>768.000000</td>\n",
              "      <td>768.000000</td>\n",
              "      <td>768.000000</td>\n",
              "      <td>768.000000</td>\n",
              "      <td>768.000000</td>\n",
              "      <td>768.000000</td>\n",
              "      <td>768.000000</td>\n",
              "    </tr>\n",
              "    <tr>\n",
              "      <th>mean</th>\n",
              "      <td>3.845052</td>\n",
              "      <td>121.686763</td>\n",
              "      <td>72.405184</td>\n",
              "      <td>29.153420</td>\n",
              "      <td>155.548223</td>\n",
              "      <td>32.457464</td>\n",
              "      <td>0.471876</td>\n",
              "      <td>33.240885</td>\n",
              "      <td>0.348958</td>\n",
              "    </tr>\n",
              "    <tr>\n",
              "      <th>std</th>\n",
              "      <td>3.369578</td>\n",
              "      <td>30.435949</td>\n",
              "      <td>12.096346</td>\n",
              "      <td>8.790942</td>\n",
              "      <td>85.021108</td>\n",
              "      <td>6.875151</td>\n",
              "      <td>0.331329</td>\n",
              "      <td>11.760232</td>\n",
              "      <td>0.476951</td>\n",
              "    </tr>\n",
              "    <tr>\n",
              "      <th>min</th>\n",
              "      <td>0.000000</td>\n",
              "      <td>44.000000</td>\n",
              "      <td>24.000000</td>\n",
              "      <td>7.000000</td>\n",
              "      <td>14.000000</td>\n",
              "      <td>18.200000</td>\n",
              "      <td>0.078000</td>\n",
              "      <td>21.000000</td>\n",
              "      <td>0.000000</td>\n",
              "    </tr>\n",
              "    <tr>\n",
              "      <th>25%</th>\n",
              "      <td>1.000000</td>\n",
              "      <td>99.750000</td>\n",
              "      <td>64.000000</td>\n",
              "      <td>25.000000</td>\n",
              "      <td>121.500000</td>\n",
              "      <td>27.500000</td>\n",
              "      <td>0.243750</td>\n",
              "      <td>24.000000</td>\n",
              "      <td>0.000000</td>\n",
              "    </tr>\n",
              "    <tr>\n",
              "      <th>50%</th>\n",
              "      <td>3.000000</td>\n",
              "      <td>117.000000</td>\n",
              "      <td>72.202592</td>\n",
              "      <td>29.153420</td>\n",
              "      <td>155.548223</td>\n",
              "      <td>32.400000</td>\n",
              "      <td>0.372500</td>\n",
              "      <td>29.000000</td>\n",
              "      <td>0.000000</td>\n",
              "    </tr>\n",
              "    <tr>\n",
              "      <th>75%</th>\n",
              "      <td>6.000000</td>\n",
              "      <td>140.250000</td>\n",
              "      <td>80.000000</td>\n",
              "      <td>32.000000</td>\n",
              "      <td>155.548223</td>\n",
              "      <td>36.600000</td>\n",
              "      <td>0.626250</td>\n",
              "      <td>41.000000</td>\n",
              "      <td>1.000000</td>\n",
              "    </tr>\n",
              "    <tr>\n",
              "      <th>max</th>\n",
              "      <td>17.000000</td>\n",
              "      <td>199.000000</td>\n",
              "      <td>122.000000</td>\n",
              "      <td>99.000000</td>\n",
              "      <td>846.000000</td>\n",
              "      <td>67.100000</td>\n",
              "      <td>2.420000</td>\n",
              "      <td>81.000000</td>\n",
              "      <td>1.000000</td>\n",
              "    </tr>\n",
              "  </tbody>\n",
              "</table>\n",
              "</div>"
            ],
            "text/plain": [
              "       Pregnancies     Glucose  ...         Age     Outcome\n",
              "count   768.000000  768.000000  ...  768.000000  768.000000\n",
              "mean      3.845052  121.686763  ...   33.240885    0.348958\n",
              "std       3.369578   30.435949  ...   11.760232    0.476951\n",
              "min       0.000000   44.000000  ...   21.000000    0.000000\n",
              "25%       1.000000   99.750000  ...   24.000000    0.000000\n",
              "50%       3.000000  117.000000  ...   29.000000    0.000000\n",
              "75%       6.000000  140.250000  ...   41.000000    1.000000\n",
              "max      17.000000  199.000000  ...   81.000000    1.000000\n",
              "\n",
              "[8 rows x 9 columns]"
            ]
          },
          "metadata": {
            "tags": []
          },
          "execution_count": 10
        }
      ]
    },
    {
      "cell_type": "markdown",
      "metadata": {
        "id": "tXZbzzPT7bE1",
        "colab_type": "text"
      },
      "source": [
        "* Standardization \n",
        "\n",
        "Since each data of columns have different distribution chart, we have to standardize it."
      ]
    },
    {
      "cell_type": "code",
      "metadata": {
        "id": "uZEJiTYW0A9Y",
        "colab_type": "code",
        "colab": {}
      },
      "source": [
        "data_dig = data.columns.drop(['Outcome'])\n",
        "for column in data_dig:\n",
        "  m = data[column].mean()\n",
        "  std = data[column].std()\n",
        "  data[column] = (data[column]-m)/std"
      ],
      "execution_count": 0,
      "outputs": []
    },
    {
      "cell_type": "markdown",
      "metadata": {
        "id": "VJwn1iXg6iER",
        "colab_type": "text"
      },
      "source": [
        "* Train and test with KNN Classification \n"
      ]
    },
    {
      "cell_type": "code",
      "metadata": {
        "id": "wu0NTfR-1tpx",
        "colab_type": "code",
        "colab": {}
      },
      "source": [
        "X = data.drop(['Outcome'],axis=1)\n",
        "y = data['Outcome']"
      ],
      "execution_count": 0,
      "outputs": []
    },
    {
      "cell_type": "code",
      "metadata": {
        "id": "s1WsPsVx2vaq",
        "colab_type": "code",
        "colab": {}
      },
      "source": [
        "from sklearn.model_selection import train_test_split\n",
        "\n",
        "train_X, test_X, train_y, test_y = train_test_split(X,y,test_size=200)"
      ],
      "execution_count": 0,
      "outputs": []
    },
    {
      "cell_type": "code",
      "metadata": {
        "id": "bp42TH_e4S5r",
        "colab_type": "code",
        "colab": {}
      },
      "source": [
        "from sklearn.neighbors import KNeighborsClassifier\n",
        "\n",
        "clf = KNeighborsClassifier()"
      ],
      "execution_count": 0,
      "outputs": []
    },
    {
      "cell_type": "code",
      "metadata": {
        "id": "NvyAZO92BzC9",
        "colab_type": "code",
        "colab": {}
      },
      "source": [
        "search_space = {\n",
        "    'n_neighbors':[3,5,7],\n",
        "    'p': [1,2]\n",
        "}"
      ],
      "execution_count": 0,
      "outputs": []
    },
    {
      "cell_type": "code",
      "metadata": {
        "id": "cxyPK-T7B-WK",
        "colab_type": "code",
        "outputId": "d586c25f-437a-43fd-84cb-730e41f436d6",
        "colab": {
          "base_uri": "https://localhost:8080/",
          "height": 260
        }
      },
      "source": [
        "from sklearn.model_selection import GridSearchCV\n",
        "\n",
        "gs = GridSearchCV(clf, search_space, cv=3, verbose=1)\n",
        "gs.fit(train_X,train_y)"
      ],
      "execution_count": 0,
      "outputs": [
        {
          "output_type": "stream",
          "text": [
            "Fitting 3 folds for each of 6 candidates, totalling 18 fits\n"
          ],
          "name": "stdout"
        },
        {
          "output_type": "stream",
          "text": [
            "[Parallel(n_jobs=1)]: Using backend SequentialBackend with 1 concurrent workers.\n",
            "[Parallel(n_jobs=1)]: Done  18 out of  18 | elapsed:    0.2s finished\n"
          ],
          "name": "stderr"
        },
        {
          "output_type": "execute_result",
          "data": {
            "text/plain": [
              "GridSearchCV(cv=3, error_score=nan,\n",
              "             estimator=KNeighborsClassifier(algorithm='auto', leaf_size=30,\n",
              "                                            metric='minkowski',\n",
              "                                            metric_params=None, n_jobs=None,\n",
              "                                            n_neighbors=5, p=2,\n",
              "                                            weights='uniform'),\n",
              "             iid='deprecated', n_jobs=None,\n",
              "             param_grid={'n_neighbors': [3, 5, 7], 'p': [1, 2]},\n",
              "             pre_dispatch='2*n_jobs', refit=True, return_train_score=False,\n",
              "             scoring=None, verbose=1)"
            ]
          },
          "metadata": {
            "tags": []
          },
          "execution_count": 16
        }
      ]
    },
    {
      "cell_type": "code",
      "metadata": {
        "id": "yE5SXoRgCT7w",
        "colab_type": "code",
        "colab": {}
      },
      "source": [
        "clf = gs.best_estimator_\n",
        "predictions = clf.predict(test_X)"
      ],
      "execution_count": 0,
      "outputs": []
    },
    {
      "cell_type": "code",
      "metadata": {
        "id": "2UDb3JhS46n9",
        "colab_type": "code",
        "colab": {}
      },
      "source": [
        "from sklearn.metrics import accuracy_score\n",
        "\n",
        "score= accuracy_score(test_y,predictions)"
      ],
      "execution_count": 0,
      "outputs": []
    },
    {
      "cell_type": "code",
      "metadata": {
        "id": "ABicSz9M5Kbu",
        "colab_type": "code",
        "outputId": "29a94496-beaf-4fae-b931-aa41d3c120e5",
        "colab": {
          "base_uri": "https://localhost:8080/",
          "height": 36
        }
      },
      "source": [
        "print(score)"
      ],
      "execution_count": 0,
      "outputs": [
        {
          "output_type": "stream",
          "text": [
            "0.74\n"
          ],
          "name": "stdout"
        }
      ]
    },
    {
      "cell_type": "markdown",
      "metadata": {
        "id": "1jy6fMpS8Jzp",
        "colab_type": "text"
      },
      "source": [
        "* Correlation between variables\n",
        "\n",
        " To rule out some variables that are not strongly correlated enough , we have to check the correlation between variables."
      ]
    },
    {
      "cell_type": "code",
      "metadata": {
        "id": "LBgivKZ55MDy",
        "colab_type": "code",
        "outputId": "8ac130f2-ab49-4317-8dd0-5a2637f602a5",
        "colab": {
          "base_uri": "https://localhost:8080/",
          "height": 522
        }
      },
      "source": [
        "sns.heatmap(data.corr(), cmap='Blues' , annot=True, fmt='.2f')\n",
        "\n",
        "plt.title('Correlation between variables', fontsize=14, pad=15)\n",
        "plt.gcf().set_size_inches(8,6)\n",
        "plt.show()"
      ],
      "execution_count": 0,
      "outputs": [
        {
          "output_type": "display_data",
          "data": {
            "image/png": "[encoded data removed]",
            "text/plain": [
              "<Figure size 576x432 with 2 Axes>"
            ]
          },
          "metadata": {
            "tags": []
          }
        }
      ]
    },
    {
      "cell_type": "markdown",
      "metadata": {
        "id": "q6Xi_YD588G4",
        "colab_type": "text"
      },
      "source": [
        "As you can see, bloodpressure and diabetes pedigree function are the least correlation with the outcome."
      ]
    },
    {
      "cell_type": "markdown",
      "metadata": {
        "id": "Q-lVnDoeBd-v",
        "colab_type": "text"
      },
      "source": [
        "### Prediction with PCA"
      ]
    },
    {
      "cell_type": "code",
      "metadata": {
        "id": "aejwh9IC7Qxz",
        "colab_type": "code",
        "colab": {}
      },
      "source": [
        "from sklearn.decomposition import PCA"
      ],
      "execution_count": 0,
      "outputs": []
    },
    {
      "cell_type": "code",
      "metadata": {
        "id": "qFqGrfDQ7qY4",
        "colab_type": "code",
        "colab": {}
      },
      "source": [
        "pca = PCA()"
      ],
      "execution_count": 0,
      "outputs": []
    },
    {
      "cell_type": "code",
      "metadata": {
        "id": "C_5xJQSn7usD",
        "colab_type": "code",
        "outputId": "4b0ee6ea-fcd7-4499-f5e4-a9827843260b",
        "colab": {
          "base_uri": "https://localhost:8080/",
          "height": 55
        }
      },
      "source": [
        "pca.fit(X)"
      ],
      "execution_count": 0,
      "outputs": [
        {
          "output_type": "execute_result",
          "data": {
            "text/plain": [
              "PCA(copy=True, iterated_power='auto', n_components=None, random_state=None,\n",
              "    svd_solver='auto', tol=0.0, whiten=False)"
            ]
          },
          "metadata": {
            "tags": []
          },
          "execution_count": 23
        }
      ]
    },
    {
      "cell_type": "code",
      "metadata": {
        "id": "4svRDcwG8L2X",
        "colab_type": "code",
        "colab": {}
      },
      "source": [
        "X = pd.DataFrame(pca.transform(X), columns=['PC{}'.format(i) for i in range(1, 9)])"
      ],
      "execution_count": 0,
      "outputs": []
    },
    {
      "cell_type": "code",
      "metadata": {
        "id": "zNJ_OG-R9g-w",
        "colab_type": "code",
        "outputId": "b19b992b-fb20-4572-800f-e63e4b8e34f4",
        "colab": {
          "base_uri": "https://localhost:8080/",
          "height": 202
        }
      },
      "source": [
        "X['outcome'] = y\n",
        "X.head()"
      ],
      "execution_count": 0,
      "outputs": [
        {
          "output_type": "execute_result",
          "data": {
            "text/html": [
              "<div>\n",
              "<style scoped>\n",
              "    .dataframe tbody tr th:only-of-type {\n",
              "        vertical-align: middle;\n",
              "    }\n",
              "\n",
              "    .dataframe tbody tr th {\n",
              "        vertical-align: top;\n",
              "    }\n",
              "\n",
              "    .dataframe thead th {\n",
              "        text-align: right;\n",
              "    }\n",
              "</style>\n",
              "<table border=\"1\" class=\"dataframe\">\n",
              "  <thead>\n",
              "    <tr style=\"text-align: right;\">\n",
              "      <th></th>\n",
              "      <th>PC1</th>\n",
              "      <th>PC2</th>\n",
              "      <th>PC3</th>\n",
              "      <th>PC4</th>\n",
              "      <th>PC5</th>\n",
              "      <th>PC6</th>\n",
              "      <th>PC7</th>\n",
              "      <th>PC8</th>\n",
              "      <th>outcome</th>\n",
              "    </tr>\n",
              "  </thead>\n",
              "  <tbody>\n",
              "    <tr>\n",
              "      <th>0</th>\n",
              "      <td>1.502650</td>\n",
              "      <td>-0.587706</td>\n",
              "      <td>0.196149</td>\n",
              "      <td>0.569973</td>\n",
              "      <td>-0.455309</td>\n",
              "      <td>-0.643789</td>\n",
              "      <td>0.470317</td>\n",
              "      <td>0.260456</td>\n",
              "      <td>1</td>\n",
              "    </tr>\n",
              "    <tr>\n",
              "      <th>1</th>\n",
              "      <td>-1.436577</td>\n",
              "      <td>0.076938</td>\n",
              "      <td>-0.101094</td>\n",
              "      <td>-0.192771</td>\n",
              "      <td>-0.278933</td>\n",
              "      <td>0.608112</td>\n",
              "      <td>0.875734</td>\n",
              "      <td>0.101104</td>\n",
              "      <td>0</td>\n",
              "    </tr>\n",
              "    <tr>\n",
              "      <th>2</th>\n",
              "      <td>0.491913</td>\n",
              "      <td>-0.812039</td>\n",
              "      <td>1.652297</td>\n",
              "      <td>0.460138</td>\n",
              "      <td>-0.463510</td>\n",
              "      <td>-1.463677</td>\n",
              "      <td>-0.274657</td>\n",
              "      <td>-1.391320</td>\n",
              "      <td>1</td>\n",
              "    </tr>\n",
              "    <tr>\n",
              "      <th>3</th>\n",
              "      <td>-2.210587</td>\n",
              "      <td>0.118005</td>\n",
              "      <td>-0.462121</td>\n",
              "      <td>-0.595838</td>\n",
              "      <td>0.114441</td>\n",
              "      <td>0.100014</td>\n",
              "      <td>-0.002935</td>\n",
              "      <td>0.013536</td>\n",
              "      <td>0</td>\n",
              "    </tr>\n",
              "    <tr>\n",
              "      <th>4</th>\n",
              "      <td>0.552942</td>\n",
              "      <td>3.467060</td>\n",
              "      <td>1.971314</td>\n",
              "      <td>4.772523</td>\n",
              "      <td>-1.102183</td>\n",
              "      <td>-0.538627</td>\n",
              "      <td>0.009354</td>\n",
              "      <td>1.069128</td>\n",
              "      <td>1</td>\n",
              "    </tr>\n",
              "  </tbody>\n",
              "</table>\n",
              "</div>"
            ],
            "text/plain": [
              "        PC1       PC2       PC3  ...       PC7       PC8  outcome\n",
              "0  1.502650 -0.587706  0.196149  ...  0.470317  0.260456        1\n",
              "1 -1.436577  0.076938 -0.101094  ...  0.875734  0.101104        0\n",
              "2  0.491913 -0.812039  1.652297  ... -0.274657 -1.391320        1\n",
              "3 -2.210587  0.118005 -0.462121  ... -0.002935  0.013536        0\n",
              "4  0.552942  3.467060  1.971314  ...  0.009354  1.069128        1\n",
              "\n",
              "[5 rows x 9 columns]"
            ]
          },
          "metadata": {
            "tags": []
          },
          "execution_count": 32
        }
      ]
    },
    {
      "cell_type": "code",
      "metadata": {
        "id": "xRIWtjNR9ipR",
        "colab_type": "code",
        "colab": {}
      },
      "source": [
        "PCA_values = pca.explained_variance_ratio_"
      ],
      "execution_count": 0,
      "outputs": []
    },
    {
      "cell_type": "code",
      "metadata": {
        "id": "uObWUEZa_M8v",
        "colab_type": "code",
        "outputId": "2a633a85-c1c0-4bab-f8f0-233dc0829a03",
        "colab": {
          "base_uri": "https://localhost:8080/",
          "height": 268
        }
      },
      "source": [
        "sns.barplot(x = X.columns.drop(['outcome']), y = PCA_values)\n",
        "\n",
        "plt.show()"
      ],
      "execution_count": 0,
      "outputs": [
        {
          "output_type": "display_data",
          "data": {
            "image/png": "[encoded data removed]",
            "text/plain": [
              "<Figure size 432x288 with 1 Axes>"
            ]
          },
          "metadata": {
            "tags": []
          }
        }
      ]
    },
    {
      "cell_type": "code",
      "metadata": {
        "id": "lfe2pAQq_4uK",
        "colab_type": "code",
        "outputId": "ba8f2611-405f-4229-9fa0-c04b9b03ad11",
        "colab": {
          "base_uri": "https://localhost:8080/",
          "height": 299
        }
      },
      "source": [
        "sns.scatterplot(X.loc[X['outcome']==0, 'PC1'], X.loc[X['outcome']==0, 'PC2'], color='darkseagreen')\n",
        "sns.scatterplot(X.loc[X['outcome']==1, 'PC1'], X.loc[X['outcome']==1, 'PC2'], color='orange')\n",
        "\n",
        "plt.title('Scatterplot based on PC1 and PC2', pad =10)\n",
        "plt.legend(['Normal', 'Diabetes'])\n",
        "plt.show()"
      ],
      "execution_count": 0,
      "outputs": [
        {
          "output_type": "display_data",
          "data": {
            "image/png": "[encoded data removed]",
            "text/plain": [
              "<Figure size 432x288 with 1 Axes>"
            ]
          },
          "metadata": {
            "tags": []
          }
        }
      ]
    },
    {
      "cell_type": "code",
      "metadata": {
        "id": "EmPVEpYeE3dx",
        "colab_type": "code",
        "colab": {}
      },
      "source": [
        "X = X[['PC1','PC2','PC3','PC4']]"
      ],
      "execution_count": 0,
      "outputs": []
    },
    {
      "cell_type": "code",
      "metadata": {
        "id": "eJ2HFNI2HqFC",
        "colab_type": "code",
        "outputId": "99515a75-96b8-46d0-9d7c-68d57626f3ba",
        "colab": {
          "base_uri": "https://localhost:8080/",
          "height": 202
        }
      },
      "source": [
        "X.head()"
      ],
      "execution_count": 0,
      "outputs": [
        {
          "output_type": "execute_result",
          "data": {
            "text/html": [
              "<div>\n",
              "<style scoped>\n",
              "    .dataframe tbody tr th:only-of-type {\n",
              "        vertical-align: middle;\n",
              "    }\n",
              "\n",
              "    .dataframe tbody tr th {\n",
              "        vertical-align: top;\n",
              "    }\n",
              "\n",
              "    .dataframe thead th {\n",
              "        text-align: right;\n",
              "    }\n",
              "</style>\n",
              "<table border=\"1\" class=\"dataframe\">\n",
              "  <thead>\n",
              "    <tr style=\"text-align: right;\">\n",
              "      <th></th>\n",
              "      <th>PC1</th>\n",
              "      <th>PC2</th>\n",
              "      <th>PC3</th>\n",
              "      <th>PC4</th>\n",
              "    </tr>\n",
              "  </thead>\n",
              "  <tbody>\n",
              "    <tr>\n",
              "      <th>0</th>\n",
              "      <td>1.502650</td>\n",
              "      <td>-0.587706</td>\n",
              "      <td>0.196149</td>\n",
              "      <td>0.569973</td>\n",
              "    </tr>\n",
              "    <tr>\n",
              "      <th>1</th>\n",
              "      <td>-1.436577</td>\n",
              "      <td>0.076938</td>\n",
              "      <td>-0.101094</td>\n",
              "      <td>-0.192771</td>\n",
              "    </tr>\n",
              "    <tr>\n",
              "      <th>2</th>\n",
              "      <td>0.491913</td>\n",
              "      <td>-0.812039</td>\n",
              "      <td>1.652297</td>\n",
              "      <td>0.460138</td>\n",
              "    </tr>\n",
              "    <tr>\n",
              "      <th>3</th>\n",
              "      <td>-2.210587</td>\n",
              "      <td>0.118005</td>\n",
              "      <td>-0.462121</td>\n",
              "      <td>-0.595838</td>\n",
              "    </tr>\n",
              "    <tr>\n",
              "      <th>4</th>\n",
              "      <td>0.552942</td>\n",
              "      <td>3.467060</td>\n",
              "      <td>1.971314</td>\n",
              "      <td>4.772523</td>\n",
              "    </tr>\n",
              "  </tbody>\n",
              "</table>\n",
              "</div>"
            ],
            "text/plain": [
              "        PC1       PC2       PC3       PC4\n",
              "0  1.502650 -0.587706  0.196149  0.569973\n",
              "1 -1.436577  0.076938 -0.101094 -0.192771\n",
              "2  0.491913 -0.812039  1.652297  0.460138\n",
              "3 -2.210587  0.118005 -0.462121 -0.595838\n",
              "4  0.552942  3.467060  1.971314  4.772523"
            ]
          },
          "metadata": {
            "tags": []
          },
          "execution_count": 72
        }
      ]
    },
    {
      "cell_type": "code",
      "metadata": {
        "id": "Gu6T2-EvHsB1",
        "colab_type": "code",
        "colab": {}
      },
      "source": [
        "train_X, test_X, train_y, test_y = train_test_split(X,y,test_size=200)"
      ],
      "execution_count": 0,
      "outputs": []
    },
    {
      "cell_type": "code",
      "metadata": {
        "id": "5ghKvV0TID6I",
        "colab_type": "code",
        "colab": {}
      },
      "source": [
        "clf = KNeighborsClassifier()"
      ],
      "execution_count": 0,
      "outputs": []
    },
    {
      "cell_type": "code",
      "metadata": {
        "id": "A3LGx4K8IVJD",
        "colab_type": "code",
        "colab": {}
      },
      "source": [
        "search_space={\n",
        "    'n_neighbors':[3,5,7,9,11,13,15,17,19],\n",
        "    'p':[1,2]\n",
        "}"
      ],
      "execution_count": 0,
      "outputs": []
    },
    {
      "cell_type": "code",
      "metadata": {
        "id": "wgkWqrTnItx7",
        "colab_type": "code",
        "outputId": "a04b58b0-671f-485f-81ad-c939671fe716",
        "colab": {
          "base_uri": "https://localhost:8080/",
          "height": 279
        }
      },
      "source": [
        "gs = GridSearchCV(clf, search_space, cv=3, verbose=1)\n",
        "gs.fit(train_X,train_y)"
      ],
      "execution_count": 0,
      "outputs": [
        {
          "output_type": "stream",
          "text": [
            "Fitting 3 folds for each of 18 candidates, totalling 54 fits\n"
          ],
          "name": "stdout"
        },
        {
          "output_type": "stream",
          "text": [
            "[Parallel(n_jobs=1)]: Using backend SequentialBackend with 1 concurrent workers.\n",
            "[Parallel(n_jobs=1)]: Done  54 out of  54 | elapsed:    0.7s finished\n"
          ],
          "name": "stderr"
        },
        {
          "output_type": "execute_result",
          "data": {
            "text/plain": [
              "GridSearchCV(cv=3, error_score=nan,\n",
              "             estimator=KNeighborsClassifier(algorithm='auto', leaf_size=30,\n",
              "                                            metric='minkowski',\n",
              "                                            metric_params=None, n_jobs=None,\n",
              "                                            n_neighbors=5, p=2,\n",
              "                                            weights='uniform'),\n",
              "             iid='deprecated', n_jobs=None,\n",
              "             param_grid={'n_neighbors': [3, 5, 7, 9, 11, 13, 15, 17, 19],\n",
              "                         'p': [1, 2]},\n",
              "             pre_dispatch='2*n_jobs', refit=True, return_train_score=False,\n",
              "             scoring=None, verbose=1)"
            ]
          },
          "metadata": {
            "tags": []
          },
          "execution_count": 76
        }
      ]
    },
    {
      "cell_type": "code",
      "metadata": {
        "id": "eVabbaDyI4Bu",
        "colab_type": "code",
        "outputId": "5634f7e4-9579-43e9-ddb8-4719e47f7163",
        "colab": {
          "base_uri": "https://localhost:8080/",
          "height": 36
        }
      },
      "source": [
        "gs.best_params_"
      ],
      "execution_count": 0,
      "outputs": [
        {
          "output_type": "execute_result",
          "data": {
            "text/plain": [
              "{'n_neighbors': 15, 'p': 2}"
            ]
          },
          "metadata": {
            "tags": []
          },
          "execution_count": 77
        }
      ]
    },
    {
      "cell_type": "code",
      "metadata": {
        "id": "HA-JAPzCJAoh",
        "colab_type": "code",
        "colab": {}
      },
      "source": [
        "clf = gs.best_estimator_"
      ],
      "execution_count": 0,
      "outputs": []
    },
    {
      "cell_type": "code",
      "metadata": {
        "id": "jVQyXVRbJPor",
        "colab_type": "code",
        "colab": {}
      },
      "source": [
        "predictions = clf.predict(test_X)"
      ],
      "execution_count": 0,
      "outputs": []
    },
    {
      "cell_type": "code",
      "metadata": {
        "id": "NHzKorN_JY-9",
        "colab_type": "code",
        "colab": {}
      },
      "source": [
        "accuracy = accuracy_score(predictions, test_y)"
      ],
      "execution_count": 0,
      "outputs": []
    },
    {
      "cell_type": "code",
      "metadata": {
        "id": "R325Cd6hJeyj",
        "colab_type": "code",
        "outputId": "fcc638c2-c572-474c-b833-b82104a3b280",
        "colab": {
          "base_uri": "https://localhost:8080/",
          "height": 36
        }
      },
      "source": [
        "print('accuracy = {}'.format(accuracy))"
      ],
      "execution_count": 0,
      "outputs": [
        {
          "output_type": "stream",
          "text": [
            "accuracy = 0.72\n"
          ],
          "name": "stdout"
        }
      ]
    }
  ]
}